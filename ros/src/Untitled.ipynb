{
 "cells": [
  {
   "cell_type": "code",
   "execution_count": 2,
   "id": "66a819d9-13c8-4300-9363-578d033af269",
   "metadata": {},
   "outputs": [
    {
     "ename": "ValueError",
     "evalue": "No I2C device at address: 0x6a",
     "output_type": "error",
     "traceback": [
      "\u001b[0;31m---------------------------------------------------------------------------\u001b[0m",
      "\u001b[0;31mOSError\u001b[0m                                   Traceback (most recent call last)",
      "File \u001b[0;32m/usr/local/lib/python3.10/dist-packages/adafruit_bus_device/i2c_device.py:175\u001b[0m, in \u001b[0;36mI2CDevice.__probe_for_device\u001b[0;34m(self)\u001b[0m\n\u001b[1;32m    174\u001b[0m \u001b[38;5;28;01mtry\u001b[39;00m:\n\u001b[0;32m--> 175\u001b[0m     \u001b[38;5;28;43mself\u001b[39;49m\u001b[38;5;241;43m.\u001b[39;49m\u001b[43mi2c\u001b[49m\u001b[38;5;241;43m.\u001b[39;49m\u001b[43mwriteto\u001b[49m\u001b[43m(\u001b[49m\u001b[38;5;28;43mself\u001b[39;49m\u001b[38;5;241;43m.\u001b[39;49m\u001b[43mdevice_address\u001b[49m\u001b[43m,\u001b[49m\u001b[43m \u001b[49m\u001b[38;5;124;43mb\u001b[39;49m\u001b[38;5;124;43m\"\u001b[39;49m\u001b[38;5;124;43m\"\u001b[39;49m\u001b[43m)\u001b[49m\n\u001b[1;32m    176\u001b[0m \u001b[38;5;28;01mexcept\u001b[39;00m \u001b[38;5;167;01mOSError\u001b[39;00m:\n\u001b[1;32m    177\u001b[0m     \u001b[38;5;66;03m# some OS's dont like writing an empty bytesting...\u001b[39;00m\n\u001b[1;32m    178\u001b[0m     \u001b[38;5;66;03m# Retry by reading a byte\u001b[39;00m\n",
      "File \u001b[0;32m/usr/local/lib/python3.10/dist-packages/busio.py:220\u001b[0m, in \u001b[0;36mI2C.writeto\u001b[0;34m(self, address, buffer, start, end)\u001b[0m\n\u001b[1;32m    219\u001b[0m     \u001b[38;5;28;01mreturn\u001b[39;00m \u001b[38;5;28mself\u001b[39m\u001b[38;5;241m.\u001b[39m_i2c\u001b[38;5;241m.\u001b[39mwriteto(address, \u001b[38;5;28mmemoryview\u001b[39m(buffer)[start:end], stop\u001b[38;5;241m=\u001b[39m\u001b[38;5;28;01mTrue\u001b[39;00m)\n\u001b[0;32m--> 220\u001b[0m \u001b[38;5;28;01mreturn\u001b[39;00m \u001b[38;5;28;43mself\u001b[39;49m\u001b[38;5;241;43m.\u001b[39;49m\u001b[43m_i2c\u001b[49m\u001b[38;5;241;43m.\u001b[39;49m\u001b[43mwriteto\u001b[49m\u001b[43m(\u001b[49m\u001b[43maddress\u001b[49m\u001b[43m,\u001b[49m\u001b[43m \u001b[49m\u001b[43mbuffer\u001b[49m\u001b[43m,\u001b[49m\u001b[43m \u001b[49m\u001b[43mstop\u001b[49m\u001b[38;5;241;43m=\u001b[39;49m\u001b[38;5;28;43;01mTrue\u001b[39;49;00m\u001b[43m)\u001b[49m\n",
      "File \u001b[0;32m/usr/local/lib/python3.10/dist-packages/adafruit_blinka/microcontroller/generic_linux/i2c.py:60\u001b[0m, in \u001b[0;36mI2C.writeto\u001b[0;34m(self, address, buffer, start, end, stop)\u001b[0m\n\u001b[1;32m     59\u001b[0m     end \u001b[38;5;241m=\u001b[39m \u001b[38;5;28mlen\u001b[39m(buffer)\n\u001b[0;32m---> 60\u001b[0m \u001b[38;5;28;43mself\u001b[39;49m\u001b[38;5;241;43m.\u001b[39;49m\u001b[43m_i2c_bus\u001b[49m\u001b[38;5;241;43m.\u001b[39;49m\u001b[43mwrite_bytes\u001b[49m\u001b[43m(\u001b[49m\u001b[43maddress\u001b[49m\u001b[43m,\u001b[49m\u001b[43m \u001b[49m\u001b[43mbuffer\u001b[49m\u001b[43m[\u001b[49m\u001b[43mstart\u001b[49m\u001b[43m:\u001b[49m\u001b[43mend\u001b[49m\u001b[43m]\u001b[49m\u001b[43m)\u001b[49m\n",
      "File \u001b[0;32m/usr/local/lib/python3.10/dist-packages/Adafruit_PureIO/smbus.py:303\u001b[0m, in \u001b[0;36mSMBus.write_bytes\u001b[0;34m(self, addr, buf)\u001b[0m\n\u001b[1;32m    302\u001b[0m \u001b[38;5;28mself\u001b[39m\u001b[38;5;241m.\u001b[39m_select_device(addr)\n\u001b[0;32m--> 303\u001b[0m \u001b[38;5;28;43mself\u001b[39;49m\u001b[38;5;241;43m.\u001b[39;49m\u001b[43m_device\u001b[49m\u001b[38;5;241;43m.\u001b[39;49m\u001b[43mwrite\u001b[49m\u001b[43m(\u001b[49m\u001b[43mbuf\u001b[49m\u001b[43m)\u001b[49m\n",
      "\u001b[0;31mOSError\u001b[0m: [Errno 95] Operation not supported",
      "\nDuring handling of the above exception, another exception occurred:\n",
      "\u001b[0;31mOSError\u001b[0m                                   Traceback (most recent call last)",
      "File \u001b[0;32m/usr/local/lib/python3.10/dist-packages/adafruit_bus_device/i2c_device.py:181\u001b[0m, in \u001b[0;36mI2CDevice.__probe_for_device\u001b[0;34m(self)\u001b[0m\n\u001b[1;32m    180\u001b[0m     result \u001b[38;5;241m=\u001b[39m \u001b[38;5;28mbytearray\u001b[39m(\u001b[38;5;241m1\u001b[39m)\n\u001b[0;32m--> 181\u001b[0m     \u001b[38;5;28;43mself\u001b[39;49m\u001b[38;5;241;43m.\u001b[39;49m\u001b[43mi2c\u001b[49m\u001b[38;5;241;43m.\u001b[39;49m\u001b[43mreadfrom_into\u001b[49m\u001b[43m(\u001b[49m\u001b[38;5;28;43mself\u001b[39;49m\u001b[38;5;241;43m.\u001b[39;49m\u001b[43mdevice_address\u001b[49m\u001b[43m,\u001b[49m\u001b[43m \u001b[49m\u001b[43mresult\u001b[49m\u001b[43m)\u001b[49m\n\u001b[1;32m    182\u001b[0m \u001b[38;5;28;01mexcept\u001b[39;00m \u001b[38;5;167;01mOSError\u001b[39;00m:\n\u001b[1;32m    183\u001b[0m     \u001b[38;5;66;03m# pylint: disable=raise-missing-from\u001b[39;00m\n",
      "File \u001b[0;32m/usr/local/lib/python3.10/dist-packages/busio.py:210\u001b[0m, in \u001b[0;36mI2C.readfrom_into\u001b[0;34m(self, address, buffer, start, end)\u001b[0m\n\u001b[1;32m    209\u001b[0m     buffer \u001b[38;5;241m=\u001b[39m \u001b[38;5;28mmemoryview\u001b[39m(buffer)[start:end]\n\u001b[0;32m--> 210\u001b[0m \u001b[38;5;28;01mreturn\u001b[39;00m \u001b[38;5;28;43mself\u001b[39;49m\u001b[38;5;241;43m.\u001b[39;49m\u001b[43m_i2c\u001b[49m\u001b[38;5;241;43m.\u001b[39;49m\u001b[43mreadfrom_into\u001b[49m\u001b[43m(\u001b[49m\u001b[43maddress\u001b[49m\u001b[43m,\u001b[49m\u001b[43m \u001b[49m\u001b[43mbuffer\u001b[49m\u001b[43m,\u001b[49m\u001b[43m \u001b[49m\u001b[43mstop\u001b[49m\u001b[38;5;241;43m=\u001b[39;49m\u001b[38;5;28;43;01mTrue\u001b[39;49;00m\u001b[43m)\u001b[49m\n",
      "File \u001b[0;32m/usr/local/lib/python3.10/dist-packages/adafruit_blinka/microcontroller/generic_linux/i2c.py:67\u001b[0m, in \u001b[0;36mI2C.readfrom_into\u001b[0;34m(self, address, buffer, start, end, stop)\u001b[0m\n\u001b[1;32m     65\u001b[0m     end \u001b[38;5;241m=\u001b[39m \u001b[38;5;28mlen\u001b[39m(buffer)\n\u001b[0;32m---> 67\u001b[0m readin \u001b[38;5;241m=\u001b[39m \u001b[38;5;28;43mself\u001b[39;49m\u001b[38;5;241;43m.\u001b[39;49m\u001b[43m_i2c_bus\u001b[49m\u001b[38;5;241;43m.\u001b[39;49m\u001b[43mread_bytes\u001b[49m\u001b[43m(\u001b[49m\u001b[43maddress\u001b[49m\u001b[43m,\u001b[49m\u001b[43m \u001b[49m\u001b[43mend\u001b[49m\u001b[43m \u001b[49m\u001b[38;5;241;43m-\u001b[39;49m\u001b[43m \u001b[49m\u001b[43mstart\u001b[49m\u001b[43m)\u001b[49m\n\u001b[1;32m     68\u001b[0m \u001b[38;5;28;01mfor\u001b[39;00m i \u001b[38;5;129;01min\u001b[39;00m \u001b[38;5;28mrange\u001b[39m(end \u001b[38;5;241m-\u001b[39m start):\n",
      "File \u001b[0;32m/usr/local/lib/python3.10/dist-packages/Adafruit_PureIO/smbus.py:170\u001b[0m, in \u001b[0;36mSMBus.read_bytes\u001b[0;34m(self, addr, number)\u001b[0m\n\u001b[1;32m    169\u001b[0m \u001b[38;5;28mself\u001b[39m\u001b[38;5;241m.\u001b[39m_select_device(addr)\n\u001b[0;32m--> 170\u001b[0m \u001b[38;5;28;01mreturn\u001b[39;00m \u001b[38;5;28;43mself\u001b[39;49m\u001b[38;5;241;43m.\u001b[39;49m\u001b[43m_device\u001b[49m\u001b[38;5;241;43m.\u001b[39;49m\u001b[43mread\u001b[49m\u001b[43m(\u001b[49m\u001b[43mnumber\u001b[49m\u001b[43m)\u001b[49m\n",
      "\u001b[0;31mOSError\u001b[0m: [Errno 121] Remote I/O error",
      "\nDuring handling of the above exception, another exception occurred:\n",
      "\u001b[0;31mValueError\u001b[0m                                Traceback (most recent call last)",
      "Cell \u001b[0;32mIn[2], line 7\u001b[0m\n\u001b[1;32m      4\u001b[0m \u001b[38;5;28;01mimport\u001b[39;00m \u001b[38;5;21;01madafruit_lsm6ds\u001b[39;00m\n\u001b[1;32m      6\u001b[0m i2c \u001b[38;5;241m=\u001b[39m busio\u001b[38;5;241m.\u001b[39mI2C(board\u001b[38;5;241m.\u001b[39mSCL, board\u001b[38;5;241m.\u001b[39mSDA)\n\u001b[0;32m----> 7\u001b[0m sox \u001b[38;5;241m=\u001b[39m \u001b[43madafruit_lsm6ds\u001b[49m\u001b[38;5;241;43m.\u001b[39;49m\u001b[43mLSM6DS\u001b[49m\u001b[43m(\u001b[49m\u001b[43mi2c\u001b[49m\u001b[43m)\u001b[49m\n",
      "File \u001b[0;32m/usr/local/lib/python3.10/dist-packages/adafruit_lsm6ds/__init__.py:225\u001b[0m, in \u001b[0;36mLSM6DS.__init__\u001b[0;34m(self, i2c_bus, address, ucf)\u001b[0m\n\u001b[1;32m    222\u001b[0m \u001b[38;5;28mself\u001b[39m\u001b[38;5;241m.\u001b[39m_cached_accel_range \u001b[38;5;241m=\u001b[39m \u001b[38;5;28;01mNone\u001b[39;00m\n\u001b[1;32m    223\u001b[0m \u001b[38;5;28mself\u001b[39m\u001b[38;5;241m.\u001b[39m_cached_gyro_range \u001b[38;5;241m=\u001b[39m \u001b[38;5;28;01mNone\u001b[39;00m\n\u001b[0;32m--> 225\u001b[0m \u001b[38;5;28mself\u001b[39m\u001b[38;5;241m.\u001b[39mi2c_device \u001b[38;5;241m=\u001b[39m \u001b[43mi2c_device\u001b[49m\u001b[38;5;241;43m.\u001b[39;49m\u001b[43mI2CDevice\u001b[49m\u001b[43m(\u001b[49m\u001b[43mi2c_bus\u001b[49m\u001b[43m,\u001b[49m\u001b[43m \u001b[49m\u001b[43maddress\u001b[49m\u001b[43m)\u001b[49m\n\u001b[1;32m    226\u001b[0m \u001b[38;5;28;01mif\u001b[39;00m \u001b[38;5;28mself\u001b[39m\u001b[38;5;241m.\u001b[39mCHIP_ID \u001b[38;5;129;01mis\u001b[39;00m \u001b[38;5;28;01mNone\u001b[39;00m:\n\u001b[1;32m    227\u001b[0m     \u001b[38;5;28;01mraise\u001b[39;00m \u001b[38;5;167;01mAttributeError\u001b[39;00m(\u001b[38;5;124m\"\u001b[39m\u001b[38;5;124mLSM6DS Parent Class cannot be directly instantiated\u001b[39m\u001b[38;5;124m\"\u001b[39m)\n",
      "File \u001b[0;32m/usr/local/lib/python3.10/dist-packages/adafruit_bus_device/i2c_device.py:62\u001b[0m, in \u001b[0;36mI2CDevice.__init__\u001b[0;34m(self, i2c, device_address, probe)\u001b[0m\n\u001b[1;32m     59\u001b[0m \u001b[38;5;28mself\u001b[39m\u001b[38;5;241m.\u001b[39mdevice_address \u001b[38;5;241m=\u001b[39m device_address\n\u001b[1;32m     61\u001b[0m \u001b[38;5;28;01mif\u001b[39;00m probe:\n\u001b[0;32m---> 62\u001b[0m     \u001b[38;5;28;43mself\u001b[39;49m\u001b[38;5;241;43m.\u001b[39;49m\u001b[43m__probe_for_device\u001b[49m\u001b[43m(\u001b[49m\u001b[43m)\u001b[49m\n",
      "File \u001b[0;32m/usr/local/lib/python3.10/dist-packages/adafruit_bus_device/i2c_device.py:184\u001b[0m, in \u001b[0;36mI2CDevice.__probe_for_device\u001b[0;34m(self)\u001b[0m\n\u001b[1;32m    181\u001b[0m         \u001b[38;5;28mself\u001b[39m\u001b[38;5;241m.\u001b[39mi2c\u001b[38;5;241m.\u001b[39mreadfrom_into(\u001b[38;5;28mself\u001b[39m\u001b[38;5;241m.\u001b[39mdevice_address, result)\n\u001b[1;32m    182\u001b[0m     \u001b[38;5;28;01mexcept\u001b[39;00m \u001b[38;5;167;01mOSError\u001b[39;00m:\n\u001b[1;32m    183\u001b[0m         \u001b[38;5;66;03m# pylint: disable=raise-missing-from\u001b[39;00m\n\u001b[0;32m--> 184\u001b[0m         \u001b[38;5;28;01mraise\u001b[39;00m \u001b[38;5;167;01mValueError\u001b[39;00m(\u001b[38;5;124m\"\u001b[39m\u001b[38;5;124mNo I2C device at address: 0x\u001b[39m\u001b[38;5;132;01m%x\u001b[39;00m\u001b[38;5;124m\"\u001b[39m \u001b[38;5;241m%\u001b[39m \u001b[38;5;28mself\u001b[39m\u001b[38;5;241m.\u001b[39mdevice_address)\n\u001b[1;32m    185\u001b[0m         \u001b[38;5;66;03m# pylint: enable=raise-missing-from\u001b[39;00m\n\u001b[1;32m    186\u001b[0m \u001b[38;5;28;01mfinally\u001b[39;00m:\n\u001b[1;32m    187\u001b[0m     \u001b[38;5;28mself\u001b[39m\u001b[38;5;241m.\u001b[39mi2c\u001b[38;5;241m.\u001b[39munlock()\n",
      "\u001b[0;31mValueError\u001b[0m: No I2C device at address: 0x6a"
     ]
    }
   ],
   "source": [
    "import time\n",
    "import board\n",
    "import busio\n",
    "import adafruit_lsm6ds\n",
    "\n",
    "i2c = busio.I2C(board.SCL, board.SDA)\n",
    "sox = adafruit_lsm6ds.LSM6DS(i2c)"
   ]
  },
  {
   "cell_type": "code",
   "execution_count": null,
   "id": "72cfc129-9740-41e8-9133-5447e306013a",
   "metadata": {},
   "outputs": [],
   "source": []
  }
 ],
 "metadata": {
  "kernelspec": {
   "display_name": "Python 3 (ipykernel)",
   "language": "python",
   "name": "python3"
  },
  "language_info": {
   "codemirror_mode": {
    "name": "ipython",
    "version": 3
   },
   "file_extension": ".py",
   "mimetype": "text/x-python",
   "name": "python",
   "nbconvert_exporter": "python",
   "pygments_lexer": "ipython3",
   "version": "3.10.12"
  }
 },
 "nbformat": 4,
 "nbformat_minor": 5
}
