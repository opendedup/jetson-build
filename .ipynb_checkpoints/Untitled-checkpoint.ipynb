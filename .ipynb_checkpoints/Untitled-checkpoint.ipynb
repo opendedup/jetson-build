{
 "cells": [
  {
   "cell_type": "code",
   "execution_count": 3,
   "id": "1c6c00d7-1209-4302-aa26-018e8e438da6",
   "metadata": {},
   "outputs": [
    {
     "name": "stderr",
     "output_type": "stream",
     "text": [
      "ALSA lib control.c:1528:(snd_ctl_open_noupdate) Invalid CTL pulse\n",
      "amixer: Mixer attach pulse error: No such file or directory\n",
      "ALSA lib control.c:1528:(snd_ctl_open_noupdate) Invalid CTL pulse\n",
      "amixer: Mixer attach pulse error: No such file or directory\n",
      "amixer: invalid option -- '5'\n",
      "Invalid switch or option -? needs an argument.\n",
      "amixer: invalid option -- '%'\n",
      "Invalid switch or option -? needs an argument.\n",
      "amixer: invalid option -- '+'\n",
      "Invalid switch or option -? needs an argument.\n"
     ]
    }
   ],
   "source": [
    "import subprocess\n",
    "\n",
    "import subprocess\n",
    "\n",
    "def set_volume(percentage=None, change=None):\n",
    "  \"\"\"\n",
    "  Adjusts the system volume using amixer.\n",
    "\n",
    "  Args:\n",
    "    percentage: An integer (0-100) representing the target volume level.\n",
    "                If provided, `change` will be ignored.\n",
    "    change: A signed integer representing the percentage change in volume.\n",
    "            For example, 10 increases the volume by 10%, -5 decreases it by 5%.\n",
    "\n",
    "  Returns:\n",
    "    None\n",
    "  \"\"\"\n",
    "\n",
    "  if percentage is not None:\n",
    "    if not 0 <= percentage <= 100:\n",
    "      raise ValueError(\"Percentage must be between 0 and 100\")\n",
    "\n",
    "    command =f\"amixer -D pulse sset Master {percentage}%\"\n",
    "\n",
    "  elif change is not None:\n",
    "    command = f\"amixer -D pulse sset Master {change}%+\"\n",
    "\n",
    "  else:\n",
    "    raise ValueError(\"Either 'percentage' or 'change' must be provided\")\n",
    "\n",
    "  subprocess.run(command)\n",
    "\n",
    "# Example usage:\n",
    "# Set volume to 50%\n",
    "set_volume(percentage=50)\n",
    "\n",
    "# Increase volume by 10%\n",
    "set_volume(change=10)\n",
    "\n",
    "# Decrease volume by 5%\n",
    "set_volume(change=-5)"
   ]
  },
  {
   "cell_type": "code",
   "execution_count": null,
   "id": "b281721f-a481-48b7-81bc-b5516a533268",
   "metadata": {},
   "outputs": [],
   "source": []
  }
 ],
 "metadata": {
  "kernelspec": {
   "display_name": "Python 3 (ipykernel)",
   "language": "python",
   "name": "python3"
  },
  "language_info": {
   "codemirror_mode": {
    "name": "ipython",
    "version": 3
   },
   "file_extension": ".py",
   "mimetype": "text/x-python",
   "name": "python",
   "nbconvert_exporter": "python",
   "pygments_lexer": "ipython3",
   "version": "3.10.12"
  }
 },
 "nbformat": 4,
 "nbformat_minor": 5
}
