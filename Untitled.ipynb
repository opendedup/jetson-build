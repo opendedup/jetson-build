{
 "cells": [
  {
   "cell_type": "code",
   "execution_count": 8,
   "id": "1c6c00d7-1209-4302-aa26-018e8e438da6",
   "metadata": {},
   "outputs": [
    {
     "name": "stdout",
     "output_type": "stream",
     "text": [
      "total 92\n",
      "-rw-rw-r-- 1 1000 zed  11901 Jun  5 20:41 ars.py\n",
      "drwxrwxr-x 4 1000 zed   4096 Jun 13 07:48 build\n",
      "-rw-rw-r-- 1 1000 zed  11556 May 28 07:41 can_enumerate.py\n",
      "-rw-rw-r-- 1 1000 zed    417 Jun  7 10:50 fan_speed.sh\n",
      "drwxrwxr-x 3 1000 zed   4096 Jun 11 19:17 jetson-gpio\n",
      "drwxrwxr-x 2 1000 zed   4096 May 28 07:41 jupyterlab\n",
      "-rw-rw-r-- 1 1000 zed  27385 May 28 07:41 myfile.jpg\n",
      "drwxrwxr-x 9 1000 zed   4096 Jun  3 06:29 ros\n",
      "-rwxrwxr-x 1 1000 zed    791 May 28 07:41 spidev-setup.sh\n",
      "-rwxr-xr-x 1 1000 zed   1962 Jun  5 18:53 start-riva\n",
      "-rw-rw-r-- 1 1000 zed    717 Jun  7 13:04 test.py\n",
      "-rw-rw-r-- 1 1000 zed    800 Jun  5 18:55 test.txt\n",
      "-rw-r--r-- 1 root root  3754 Jun 13 08:12 Untitled.ipynb\n"
     ]
    }
   ],
   "source": [
    "import subprocess\n",
    "\n",
    "def run_bash_command(command):\n",
    "  \"\"\"Executes a bash command as a single string.\n",
    "\n",
    "  Args:\n",
    "    command: The bash command to execute (as a single string).\n",
    "\n",
    "  Returns:\n",
    "    The output of the command, or an error message if it fails.\n",
    "  \"\"\"\n",
    "\n",
    "  try:\n",
    "    process = subprocess.run(\n",
    "        command,\n",
    "        shell=True,            # Execute in a shell (important for string commands)\n",
    "        stdout=subprocess.PIPE,  # Capture standard output\n",
    "        stderr=subprocess.PIPE,  # Capture standard error\n",
    "        text=True              # Decode output as text\n",
    "    )\n",
    "\n",
    "    if process.returncode == 0:\n",
    "      return process.stdout.strip()  # Return output if successful\n",
    "    else:\n",
    "      return f\"Error: {process.stderr}\"  # Return error message if failed\n",
    "\n",
    "  except Exception as e:\n",
    "    return f\"An error occurred: {e}\"\n",
    "\n",
    "command = \"ls -l | grep 'volume_control.py' | wc -l\"  # Example command\n",
    "result = run_bash_command(command)\n",
    "print(result)\n",
    "\n"
   ]
  },
  {
   "cell_type": "code",
   "execution_count": 7,
   "id": "b281721f-a481-48b7-81bc-b5516a533268",
   "metadata": {},
   "outputs": [
    {
     "name": "stdout",
     "output_type": "stream",
     "text": [
      "None\n",
      "None\n",
      "None\n"
     ]
    }
   ],
   "source": [
    "def set_volume(percentage=None, change=None):\n",
    "  \"\"\"\n",
    "  Adjusts the system volume using amixer.\n",
    "\n",
    "  Args:\n",
    "    percentage: An integer (0-100) representing the target volume level.\n",
    "                If provided, `change` will be ignored.\n",
    "    change: A signed integer representing the percentage change in volume.\n",
    "            For example, 10 increases the volume by 10%, -5 decreases it by 5%.\n",
    "\n",
    "  Returns:\n",
    "    None\n",
    "  \"\"\"\n",
    "\n",
    "  if percentage is not None:\n",
    "    if not 0 <= percentage <= 100:\n",
    "      raise ValueError(\"Percentage must be between 0 and 100\")\n",
    "\n",
    "    command =f\"amixer -D pulse sset Master {percentage}%\"\n",
    "\n",
    "  elif change is not None:\n",
    "    command = f\"amixer -D pulse sset Master {change}%+\"\n",
    "\n",
    "  else:\n",
    "    raise ValueError(\"Either 'percentage' or 'change' must be provided\")\n",
    "\n",
    "  run_bash_command(command)\n",
    "\n",
    "# Example usage:\n",
    "# Set volume to 50%\n",
    "print(set_volume(percentage=50))\n",
    "\n",
    "# Increase volume by 10%\n",
    "print(set_volume(change=10))\n",
    "\n",
    "# Decrease volume by 5%\n",
    "print(set_volume(change=-5))"
   ]
  },
  {
   "cell_type": "code",
   "execution_count": null,
   "id": "80cac148-b08d-491a-963d-b43145c9e8f3",
   "metadata": {},
   "outputs": [],
   "source": []
  }
 ],
 "metadata": {
  "kernelspec": {
   "display_name": "Python 3 (ipykernel)",
   "language": "python",
   "name": "python3"
  },
  "language_info": {
   "codemirror_mode": {
    "name": "ipython",
    "version": 3
   },
   "file_extension": ".py",
   "mimetype": "text/x-python",
   "name": "python",
   "nbconvert_exporter": "python",
   "pygments_lexer": "ipython3",
   "version": "3.10.12"
  }
 },
 "nbformat": 4,
 "nbformat_minor": 5
}
